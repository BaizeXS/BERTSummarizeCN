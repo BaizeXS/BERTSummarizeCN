{
 "cells": [
  {
   "cell_type": "markdown",
   "source": [
    "### 导入前置依赖"
   ],
   "metadata": {
    "collapsed": false
   },
   "id": "d53c6089f0fa4e07"
  },
  {
   "cell_type": "code",
   "execution_count": null,
   "id": "initial_id",
   "metadata": {
    "collapsed": true
   },
   "outputs": [],
   "source": [
    "from torch import nn\n",
    "from transformers import AutoTokenizer, BertModel, BertForTokenClassification"
   ]
  },
  {
   "cell_type": "markdown",
   "source": [
    "### 设置分词器和 BERT 预训练模型"
   ],
   "metadata": {
    "collapsed": false
   },
   "id": "94d283e259b1e45a"
  },
  {
   "cell_type": "code",
   "execution_count": null,
   "outputs": [],
   "source": [
    "tokenizer = AutoTokenizer.from_pretrained(\"bert-base-uncased\")\n",
    "model = BertForTokenClassification.from_pretrained(\"bert-base-uncased\")"
   ],
   "metadata": {
    "collapsed": false
   },
   "id": "170d86859cd17d29"
  },
  {
   "cell_type": "markdown",
   "source": [
    "### 数据集"
   ],
   "metadata": {
    "collapsed": false
   },
   "id": "1afda8ff43f81319"
  },
  {
   "cell_type": "code",
   "execution_count": null,
   "outputs": [],
   "source": [
    "inputs = tokenizer(\"Hello, my dog is cute\", return_tensors=\"pt\")"
   ],
   "metadata": {
    "collapsed": false
   },
   "id": "905cd905eaf03846"
  },
  {
   "cell_type": "markdown",
   "source": [
    "### BERT 混合模型"
   ],
   "metadata": {
    "collapsed": false
   },
   "id": "85c0cb062bf98048"
  },
  {
   "cell_type": "code",
   "execution_count": null,
   "outputs": [],
   "source": [
    "class FusionBERT(nn.Module):\n",
    "    \"\"\"\n",
    "    输入：句子（论文标题 + 作者 + 摘要）\n",
    "    输出：Token 是否属于关键词\n",
    "    \"\"\"\n",
    "    def __init__(self, dropout=0.5, hidden_size=768, ner_labels=2):\n",
    "        super().__init__()\n",
    "        self.model = BertModel.from_pretrained(\"bert-base-uncased\", add_pooling_layer=True) # N * 768\n",
    "        self.dropout = nn.Dropout(dropout)\n",
    "        self.ner_classifier = nn.Linear(hidden_size, ner_labels)\n",
    "\n",
    "    def forward(self, x):\n",
    "        x = self.model(**x) # N * 768\n",
    "        last_hidden_state = self.dropout(x.last_hidden_state) # N * 768\n",
    "        x = self.ner_classifier(last_hidden_state) # N * 1\n",
    "        return x"
   ],
   "metadata": {
    "collapsed": false
   },
   "id": "90bed8ae8561109b"
  },
  {
   "cell_type": "markdown",
   "source": [
    "### 测试"
   ],
   "metadata": {
    "collapsed": false
   },
   "id": "e495449408df1f95"
  },
  {
   "cell_type": "code",
   "execution_count": null,
   "outputs": [],
   "source": [
    "inputs = tokenizer(\"Hello, my dog is cute\", return_tensors=\"pt\")\n",
    "fusion_model = FusionBERT()\n",
    "fusion_model(inputs)"
   ],
   "metadata": {
    "collapsed": false
   },
   "id": "8455bb17d79291bd"
  },
  {
   "cell_type": "code",
   "execution_count": null,
   "outputs": [],
   "source": [
    "# Loss 可以将关键词结果和分类结果求和再去做梯度的计算"
   ],
   "metadata": {
    "collapsed": false
   },
   "id": "3d32f0847177458f"
  }
 ],
 "metadata": {
  "kernelspec": {
   "display_name": "Python 3",
   "language": "python",
   "name": "python3"
  },
  "language_info": {
   "codemirror_mode": {
    "name": "ipython",
    "version": 2
   },
   "file_extension": ".py",
   "mimetype": "text/x-python",
   "name": "python",
   "nbconvert_exporter": "python",
   "pygments_lexer": "ipython2",
   "version": "2.7.6"
  }
 },
 "nbformat": 4,
 "nbformat_minor": 5
}
