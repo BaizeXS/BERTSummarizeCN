{
 "cells": [
  {
   "cell_type": "markdown",
   "id": "691c702f",
   "metadata": {},
   "source": [
    "### 步骤零、安装依赖并挂载谷歌云盘"
   ]
  },
  {
   "cell_type": "code",
   "execution_count": null,
   "id": "8edefcd7",
   "metadata": {
    "colab": {
     "base_uri": "https://localhost:8080/"
    },
    "id": "8edefcd7",
    "outputId": "68f0f9eb-ac52-4bb1-97d2-6c414aba2318"
   },
   "outputs": [],
   "source": [
    "%pip install transformers datasets evaluate peft accelerate gradio optimum sentencepiece scikit-learn tensorboard nltk rouge rouge-chinese"
   ]
  },
  {
   "cell_type": "code",
   "execution_count": null,
   "id": "2e2c7f0d",
   "metadata": {
    "colab": {
     "base_uri": "https://localhost:8080/"
    },
    "id": "2e2c7f0d",
    "outputId": "0f5cf983-510c-42f8-ebea-f76c08ef1d94"
   },
   "outputs": [],
   "source": [
    "# 加载谷歌云盘\n",
    "from google.colab import drive\n",
    "drive.mount('/content/drive')"
   ]
  },
  {
   "cell_type": "markdown",
   "id": "693d4efd2c990f98",
   "metadata": {
    "collapsed": false,
    "id": "693d4efd2c990f98"
   },
   "source": [
    "### 步骤一、导入前置依赖"
   ]
  },
  {
   "cell_type": "code",
   "execution_count": 1,
   "id": "initial_id",
   "metadata": {
    "ExecuteTime": {
     "end_time": "2023-09-02T15:43:59.534032Z",
     "start_time": "2023-09-02T15:43:51.914908Z"
    },
    "collapsed": true,
    "id": "initial_id"
   },
   "outputs": [],
   "source": [
    "import pandas as pd\n",
    "import torch\n",
    "import numpy as np\n",
    "from rouge_chinese import Rouge\n",
    "from datasets import Dataset\n",
    "from transformers import AutoTokenizer, AutoModelForSeq2SeqLM, DataCollatorForSeq2Seq, Seq2SeqTrainer, Seq2SeqTrainingArguments"
   ]
  },
  {
   "cell_type": "markdown",
   "id": "2aad6b05283e26a5",
   "metadata": {
    "collapsed": false,
    "id": "2aad6b05283e26a5"
   },
   "source": [
    "### 步骤二、构建数据集"
   ]
  },
  {
   "cell_type": "code",
   "execution_count": null,
   "id": "c8b727d701195443",
   "metadata": {
    "ExecuteTime": {
     "end_time": "2023-09-02T15:44:33.562422Z",
     "start_time": "2023-09-02T15:44:28.035948Z"
    },
    "colab": {
     "base_uri": "https://localhost:8080/"
    },
    "id": "c8b727d701195443",
    "outputId": "58fbace0-5757-452f-a1ea-a1eaf0e69e07"
   },
   "outputs": [],
   "source": [
    "# 设置训练集路径\n",
    "dataset_local_path = '../data/keysum_data_A.csv'\n",
    "dataset_gdrive_path = '/content/drive/MyDrive/keysum_data_B.csv'\n",
    "dataset_path = dataset_local_path\n",
    "# 读取数据\n",
    "df = pd.read_csv(dataset_path)\n",
    "# 构建 DataFrame\n",
    "df = pd.DataFrame(df)\n",
    "# 构建数据集\n",
    "dataset = Dataset.from_pandas(df)\n",
    "# 划分数据集\n",
    "dataset = dataset.train_test_split(5000, seed=42)\n",
    "# 显示数据集\n",
    "dataset"
   ]
  },
  {
   "cell_type": "code",
   "execution_count": null,
   "id": "783d22dbea73d2f9",
   "metadata": {
    "ExecuteTime": {
     "end_time": "2023-09-02T13:38:57.852309Z",
     "start_time": "2023-09-02T13:38:57.816905Z"
    },
    "colab": {
     "base_uri": "https://localhost:8080/"
    },
    "id": "783d22dbea73d2f9",
    "outputId": "63294a96-c163-4f05-e418-384b87ab0bfb"
   },
   "outputs": [],
   "source": [
    "dataset['train'][0]"
   ]
  },
  {
   "cell_type": "markdown",
   "id": "9a2d67bd869beb7e",
   "metadata": {
    "collapsed": false,
    "id": "9a2d67bd869beb7e"
   },
   "source": [
    "### 步骤三、数据预处理"
   ]
  },
  {
   "cell_type": "code",
   "execution_count": null,
   "id": "3e1edace403f6d38",
   "metadata": {
    "ExecuteTime": {
     "end_time": "2023-09-02T13:40:32.493291Z",
     "start_time": "2023-09-02T13:40:27.739410Z"
    },
    "colab": {
     "base_uri": "https://localhost:8080/",
     "height": 333,
     "referenced_widgets": [
      "e047dd13cff34c41959aa71bf314443d",
      "305bcabc249d4879a99464f31c96e0c9",
      "1cdfa7adf55841269c8ad4b511ab01b6",
      "0dd7d7ee26bf4e3aa204502e1439b17c",
      "9596bb9e44f64ea79270a656071b9861",
      "09c81487d2fb47c299763e94057698ee",
      "41befa6f11f24665a87793715d26565b",
      "fb7c255ec2ac4809bb2ad4a2c1eeba40",
      "59005eb0fd9a4ed08b3314186ffd1486",
      "649c63c70b52470da321b97e88522ad7",
      "4627bf4d188b4e1398ba25788651086c",
      "a49bfd73df384e7ca322604911e865f1",
      "e27db1f2cd2748c39a68ca8db3056ba2",
      "73d46deb9bed45feae85e4936d07958d",
      "61962eb97c5d4fa89bcec0dcf514eab0",
      "527f76b8acf343e99f50151626ea9312",
      "3078917aceaf4dc9af9ea9ec5fc3fc17",
      "ed7dff8cdf20496f9c3bbc015b76bb2e",
      "95c2c55a0c2d43a796f20bb205f1dda9",
      "a4342f04200d4a04abe40aa3530a3bf3",
      "1298deb1c4bc45608e27e9167676cf39",
      "e64790144c484149b0a7b3d70f9d5a29"
     ]
    },
    "id": "3e1edace403f6d38",
    "outputId": "bf792e84-eb11-48d6-c251-e862afa53495"
   },
   "outputs": [],
   "source": [
    "# 设置 Tokenizer\n",
    "tokenizer = AutoTokenizer.from_pretrained(\"Langboat/mengzi-t5-base\")\n",
    "# 查看 Tokenizer\n",
    "# tokenizer"
   ]
  },
  {
   "cell_type": "code",
   "execution_count": null,
   "id": "f407d83f",
   "metadata": {
    "id": "f407d83f"
   },
   "outputs": [],
   "source": [
    "# 数据处理函数\n",
    "def process_func(examples):\n",
    "    contents = [\"摘要生成: \\n\" + e for e in examples[\"Content\"]]\n",
    "    # 对输入(Content)进行 Tokenization\n",
    "    inputs = tokenizer(contents, max_length=512, truncation=True)\n",
    "    # 对输出(Keywords)进行 Tokenization\n",
    "    labels = tokenizer(text_target=examples[\"Keywords\"], max_length=64, truncation=True)\n",
    "    inputs[\"labels\"] = labels[\"input_ids\"]\n",
    "    return inputs"
   ]
  },
  {
   "cell_type": "code",
   "execution_count": null,
   "id": "49dd5c7ee0427022",
   "metadata": {
    "ExecuteTime": {
     "end_time": "2023-09-02T13:40:34.527185Z",
     "start_time": "2023-09-02T13:40:34.231152Z"
    },
    "colab": {
     "base_uri": "https://localhost:8080/",
     "height": 260,
     "referenced_widgets": [
      "2100551f5dae4b8587c401814e9ebb18",
      "7167f527d12740aebf0b70846262d028",
      "57cd9918f4904b7fa42ceb032fb48772",
      "b6e69069a33a4521904344a300b319f5",
      "19fab3167a4c4361bbee96d11f7fc426",
      "143a10a6765541fbbfab8f895589fd52",
      "cc65ecd1969c4055979ea86ec7b9469b",
      "836e2eb5350a451ebe84a0a72dbf6993",
      "6b67d21fa9f64b3dbfd627d913f7cf51",
      "8a4dcea69ffc48c6b25d4b5149a3bf7d",
      "93be1d1379914fb9a24cc6cd47394ea4",
      "3118b889ced746c6b0c3798b8e83a80f",
      "0d9f61c7c5bb42c28aff80277f871401",
      "88e8e51942444a4e97d63bfe0cda22ee",
      "18c162998e5143ddaec233d5fb9f5c99",
      "1729d4ff744c491fbdbcb353e9d93af7",
      "8d07ed1f3ea8496fa25db908932be776",
      "4a0b7bf588f249efa1182eac36b4a061",
      "6c4a2077b9134c2d8b8fef87aa9db8b5",
      "62cdeb88dc704841b67ec802a4d1b9d2",
      "e0e11a1de8ca415faf4d2f6280726741",
      "74f51367d5754a09980bf8e20707c462"
     ]
    },
    "id": "49dd5c7ee0427022",
    "outputId": "077f8f70-1463-4c0f-ee14-c6e0fec00ffb"
   },
   "outputs": [],
   "source": [
    "# 构建 tokenized_dataset\n",
    "tokenized_dataset = dataset.map(process_func, batched=True)\n",
    "# 查看 tokenized_dataset\n",
    "# tokenized_dataset"
   ]
  },
  {
   "cell_type": "code",
   "execution_count": null,
   "id": "72e18192159bf315",
   "metadata": {
    "ExecuteTime": {
     "end_time": "2023-09-02T13:40:38.474078Z",
     "start_time": "2023-09-02T13:40:38.394076Z"
    },
    "colab": {
     "base_uri": "https://localhost:8080/"
    },
    "id": "72e18192159bf315",
    "outputId": "35fd6be8-fe00-4997-f4a9-694d162264f9"
   },
   "outputs": [],
   "source": [
    "# Example\n",
    "print(tokenizer.decode(tokenized_dataset[\"train\"][0][\"input_ids\"]))\n",
    "print(tokenizer.decode(tokenized_dataset[\"train\"][0][\"labels\"]))"
   ]
  },
  {
   "cell_type": "markdown",
   "id": "ff68088f485319f3",
   "metadata": {
    "collapsed": false,
    "id": "ff68088f485319f3"
   },
   "source": [
    "### 步骤四、加载预训练模型"
   ]
  },
  {
   "cell_type": "code",
   "execution_count": null,
   "id": "6443ff5ccd80ba75",
   "metadata": {
    "ExecuteTime": {
     "end_time": "2023-09-02T13:40:52.207815Z",
     "start_time": "2023-09-02T13:40:45.523263Z"
    },
    "colab": {
     "base_uri": "https://localhost:8080/",
     "height": 49,
     "referenced_widgets": [
      "935f46b25f07481fa8e2ffa924683cd1",
      "a9aa9aff83624a3aab57b1e2e352611c",
      "962a182573fa4f91afa6d1cd8977aeb9",
      "5f75f9e9bc744688a9adc6ad4aad71fd",
      "1e81cddc94534b3696270b57b80a24c9",
      "319614f9637b44b280ea72e3f4774f03",
      "6e0f0cce15874d0ba9786040ba71017a",
      "3b63b0c460494f1b99db9a41426c8f27",
      "a96be4d798034d73a6c866156456818c",
      "e55aff977d7847b29439e5be6c3ccc8d",
      "7c1efd232d034bb69662ed1a26624852"
     ]
    },
    "id": "6443ff5ccd80ba75",
    "outputId": "90c267c0-7494-4cc8-a61b-4da60a817631"
   },
   "outputs": [],
   "source": [
    "# 加载预训练模型\n",
    "model = AutoModelForSeq2SeqLM.from_pretrained(\"Langboat/mengzi-t5-base\")"
   ]
  },
  {
   "cell_type": "markdown",
   "id": "81603df5e54fe7f0",
   "metadata": {
    "collapsed": false,
    "id": "81603df5e54fe7f0"
   },
   "source": [
    "### 步骤五、设置评估函数"
   ]
  },
  {
   "cell_type": "code",
   "execution_count": null,
   "id": "f9bb15d9236de83f",
   "metadata": {
    "ExecuteTime": {
     "end_time": "2023-09-02T13:40:54.670343Z",
     "start_time": "2023-09-02T13:40:54.653687Z"
    },
    "id": "f9bb15d9236de83f"
   },
   "outputs": [],
   "source": [
    "rouge = Rouge()\n",
    "\n",
    "def compute_metric(evalPred):\n",
    "    predictions, labels = evalPred\n",
    "    # 解码 Predictions\n",
    "    decoded_preds = tokenizer.batch_decode(predictions, skip_special_tokens=True)\n",
    "    # 解码 Labels\n",
    "    labels = np.where(labels != -100, labels, tokenizer.pad_token_id)\n",
    "    decoded_labels = tokenizer.batch_decode(labels, skip_special_tokens=True)\n",
    "    # 处理 Predictions\n",
    "    decoded_preds = [\" \".join(p) for p in decoded_preds]\n",
    "    # 处理 Labels\n",
    "    decoded_labels = [\" \".join(p) for p in decoded_labels]\n",
    "    # 计算分数\n",
    "    scores = rouge.get_scores(decoded_preds, decoded_labels, avg=True)\n",
    "    return {\n",
    "        \"rouge-1\": scores[\"rouge-1\"][\"f\"],\n",
    "        \"rouge-2\": scores[\"rouge-2\"][\"f\"],\n",
    "        \"rouge-l\": scores[\"rouge-l\"][\"f\"],\n",
    "    }"
   ]
  },
  {
   "cell_type": "markdown",
   "id": "154385ec601e5896",
   "metadata": {
    "collapsed": false,
    "id": "154385ec601e5896"
   },
   "source": [
    "### 步骤六、设置训练参数"
   ]
  },
  {
   "cell_type": "code",
   "execution_count": null,
   "id": "92d1391403a28f12",
   "metadata": {
    "ExecuteTime": {
     "end_time": "2023-09-02T13:40:56.575940Z",
     "start_time": "2023-09-02T13:40:56.552389Z"
    },
    "id": "92d1391403a28f12"
   },
   "outputs": [],
   "source": [
    "# 配置训练参数\n",
    "args = Seq2SeqTrainingArguments(\n",
    "    output_dir=\"/content/drive/MyDrive/t5/checkpoints\",\n",
    "    per_device_train_batch_size=4,\n",
    "    per_device_eval_batch_size=8,\n",
    "    gradient_accumulation_steps=8,\n",
    "    logging_steps=8,\n",
    "    evaluation_strategy=\"epoch\",\n",
    "    save_strategy=\"epoch\",\n",
    "    save_total_limit=5,\n",
    "    metric_for_best_model=\"rouge-l\",\n",
    "    load_best_model_at_end=True,\n",
    "    predict_with_generate=True,\n",
    ")"
   ]
  },
  {
   "cell_type": "markdown",
   "id": "58f9df45b019f855",
   "metadata": {
    "collapsed": false,
    "id": "58f9df45b019f855"
   },
   "source": [
    "### 步骤七、设置训练器"
   ]
  },
  {
   "cell_type": "code",
   "execution_count": null,
   "id": "11564d981db9b3f6",
   "metadata": {
    "ExecuteTime": {
     "end_time": "2023-09-02T13:41:13.322531Z",
     "start_time": "2023-09-02T13:41:13.273427Z"
    },
    "id": "11564d981db9b3f6"
   },
   "outputs": [],
   "source": [
    "trainer = Seq2SeqTrainer(\n",
    "    model=model,\n",
    "    args=args,\n",
    "    data_collator=DataCollatorForSeq2Seq(tokenizer=tokenizer),\n",
    "    train_dataset=tokenized_dataset[\"train\"],\n",
    "    eval_dataset=tokenized_dataset[\"test\"],\n",
    "    tokenizer=tokenizer,\n",
    "    compute_metrics=compute_metric\n",
    ")"
   ]
  },
  {
   "cell_type": "markdown",
   "id": "82a6cd4b4fc7f8cd",
   "metadata": {
    "collapsed": false,
    "id": "82a6cd4b4fc7f8cd"
   },
   "source": [
    "### 步骤八、训练模型"
   ]
  },
  {
   "cell_type": "code",
   "execution_count": null,
   "id": "8ffe3478ff9ba128",
   "metadata": {
    "ExecuteTime": {
     "end_time": "2023-09-02T14:04:51.761298Z",
     "start_time": "2023-09-02T13:41:15.645589Z"
    },
    "colab": {
     "base_uri": "https://localhost:8080/",
     "height": 243
    },
    "id": "8ffe3478ff9ba128",
    "outputId": "3604152a-74c3-4f6b-ed66-8644f00f3524"
   },
   "outputs": [],
   "source": [
    "trainer.train()"
   ]
  },
  {
   "cell_type": "markdown",
   "id": "20586302",
   "metadata": {
    "id": "20586302"
   },
   "source": [
    "### 步骤九、保存模型和分词器"
   ]
  },
  {
   "cell_type": "code",
   "execution_count": null,
   "id": "735452b5",
   "metadata": {
    "colab": {
     "base_uri": "https://localhost:8080/"
    },
    "id": "735452b5",
    "outputId": "e2b55f1c-1e2c-494d-ac7f-d2a828471426"
   },
   "outputs": [],
   "source": [
    "# Save Model\n",
    "trainer.save_model('/content/drive/MyDrive/t5/model')\n",
    "# Save Tokenizer\n",
    "tokenizer.save_pretrained('/content/drive/MyDrive/t5/tokenizer')"
   ]
  },
  {
   "cell_type": "markdown",
   "id": "30ebd7f8cf6a9db3",
   "metadata": {
    "collapsed": false,
    "id": "30ebd7f8cf6a9db3"
   },
   "source": [
    "### 步骤十、模型推理与测试"
   ]
  },
  {
   "cell_type": "code",
   "execution_count": 6,
   "id": "b1c459de",
   "metadata": {
    "ExecuteTime": {
     "end_time": "2023-09-03T11:01:00.070731Z",
     "start_time": "2023-09-03T11:00:54.402784Z"
    },
    "colab": {
     "base_uri": "https://localhost:8080/"
    },
    "id": "b1c459de",
    "outputId": "adce801f-c82b-47c5-ac99-e476811bbfaf"
   },
   "outputs": [],
   "source": [
    "import pandas as pd\n",
    "from transformers import AutoTokenizer, AutoModelForSeq2SeqLM, pipeline\n",
    "\n",
    "model_path = '../model/t5-model'\n",
    "tokenizer_path = '../model/t5-tokenizer/'\n",
    "model = AutoModelForSeq2SeqLM.from_pretrained(model_path)\n",
    "tokenizer = AutoTokenizer.from_pretrained(tokenizer_path)\n",
    "# pipe = pipeline(\"text2text-generation\", model=model, tokenizer=tokenizer, device=0)\n",
    "pipe = pipeline(\"text2text-generation\", model=model, tokenizer=tokenizer)\n",
    "\n",
    "def generate_keywords(content, max_gen_len=128):\n",
    "    keywords = pipe(\"摘要生成:\\n\" + content, max_length=max_gen_len, do_sample=True)\n",
    "    return keywords[0]['generated_text']"
   ]
  },
  {
   "cell_type": "code",
   "execution_count": 10,
   "id": "89a832a7",
   "metadata": {
    "ExecuteTime": {
     "end_time": "2023-09-03T11:12:30.670867Z",
     "start_time": "2023-09-03T11:12:29.898884Z"
    }
   },
   "outputs": [
    {
     "name": "stdout",
     "output_type": "stream",
     "text": [
      "Real Keywords:  城镇职工重大疾病保障水平; 方差分析; Logistic回归; 对比分析\n",
      "Results:  城镇职工; 重大疾病保障; 资料统计\n"
     ]
    }
   ],
   "source": [
    "# Test\n",
    "df = pd.read_csv('../data/keysum_data_A.csv')\n",
    "idx = 5\n",
    "test_content = df['Content'][idx]\n",
    "test_keywords = df['Keywords'][idx]\n",
    "test_results = generate_keywords(test_content)\n",
    "print(\"Real Keywords: \", test_keywords)\n",
    "print(\"Results: \", test_results)"
   ]
  }
 ],
 "metadata": {
  "accelerator": "GPU",
  "colab": {
   "gpuType": "V100",
   "provenance": []
  },
  "kernelspec": {
   "display_name": "Python 3 (ipykernel)",
   "language": "python",
   "name": "python3"
  },
  "language_info": {
   "codemirror_mode": {
    "name": "ipython",
    "version": 3
   },
   "file_extension": ".py",
   "mimetype": "text/x-python",
   "name": "python",
   "nbconvert_exporter": "python",
   "pygments_lexer": "ipython3",
   "version": "3.9.17"
  },
  "widgets": {
   "application/vnd.jupyter.widget-state+json": {
    "09c81487d2fb47c299763e94057698ee": {
     "model_module": "@jupyter-widgets/base",
     "model_module_version": "1.2.0",
     "model_name": "LayoutModel",
     "state": {
      "_model_module": "@jupyter-widgets/base",
      "_model_module_version": "1.2.0",
      "_model_name": "LayoutModel",
      "_view_count": null,
      "_view_module": "@jupyter-widgets/base",
      "_view_module_version": "1.2.0",
      "_view_name": "LayoutView",
      "align_content": null,
      "align_items": null,
      "align_self": null,
      "border": null,
      "bottom": null,
      "display": null,
      "flex": null,
      "flex_flow": null,
      "grid_area": null,
      "grid_auto_columns": null,
      "grid_auto_flow": null,
      "grid_auto_rows": null,
      "grid_column": null,
      "grid_gap": null,
      "grid_row": null,
      "grid_template_areas": null,
      "grid_template_columns": null,
      "grid_template_rows": null,
      "height": null,
      "justify_content": null,
      "justify_items": null,
      "left": null,
      "margin": null,
      "max_height": null,
      "max_width": null,
      "min_height": null,
      "min_width": null,
      "object_fit": null,
      "object_position": null,
      "order": null,
      "overflow": null,
      "overflow_x": null,
      "overflow_y": null,
      "padding": null,
      "right": null,
      "top": null,
      "visibility": null,
      "width": null
     }
    },
    "0d9f61c7c5bb42c28aff80277f871401": {
     "model_module": "@jupyter-widgets/controls",
     "model_module_version": "1.5.0",
     "model_name": "HTMLModel",
     "state": {
      "_dom_classes": [],
      "_model_module": "@jupyter-widgets/controls",
      "_model_module_version": "1.5.0",
      "_model_name": "HTMLModel",
      "_view_count": null,
      "_view_module": "@jupyter-widgets/controls",
      "_view_module_version": "1.5.0",
      "_view_name": "HTMLView",
      "description": "",
      "description_tooltip": null,
      "layout": "IPY_MODEL_8d07ed1f3ea8496fa25db908932be776",
      "placeholder": "​",
      "style": "IPY_MODEL_4a0b7bf588f249efa1182eac36b4a061",
      "value": "Map: 100%"
     }
    },
    "0dd7d7ee26bf4e3aa204502e1439b17c": {
     "model_module": "@jupyter-widgets/controls",
     "model_module_version": "1.5.0",
     "model_name": "HTMLModel",
     "state": {
      "_dom_classes": [],
      "_model_module": "@jupyter-widgets/controls",
      "_model_module_version": "1.5.0",
      "_model_name": "HTMLModel",
      "_view_count": null,
      "_view_module": "@jupyter-widgets/controls",
      "_view_module_version": "1.5.0",
      "_view_name": "HTMLView",
      "description": "",
      "description_tooltip": null,
      "layout": "IPY_MODEL_649c63c70b52470da321b97e88522ad7",
      "placeholder": "​",
      "style": "IPY_MODEL_4627bf4d188b4e1398ba25788651086c",
      "value": " 659/659 [00:00&lt;00:00, 15.0kB/s]"
     }
    },
    "1298deb1c4bc45608e27e9167676cf39": {
     "model_module": "@jupyter-widgets/base",
     "model_module_version": "1.2.0",
     "model_name": "LayoutModel",
     "state": {
      "_model_module": "@jupyter-widgets/base",
      "_model_module_version": "1.2.0",
      "_model_name": "LayoutModel",
      "_view_count": null,
      "_view_module": "@jupyter-widgets/base",
      "_view_module_version": "1.2.0",
      "_view_name": "LayoutView",
      "align_content": null,
      "align_items": null,
      "align_self": null,
      "border": null,
      "bottom": null,
      "display": null,
      "flex": null,
      "flex_flow": null,
      "grid_area": null,
      "grid_auto_columns": null,
      "grid_auto_flow": null,
      "grid_auto_rows": null,
      "grid_column": null,
      "grid_gap": null,
      "grid_row": null,
      "grid_template_areas": null,
      "grid_template_columns": null,
      "grid_template_rows": null,
      "height": null,
      "justify_content": null,
      "justify_items": null,
      "left": null,
      "margin": null,
      "max_height": null,
      "max_width": null,
      "min_height": null,
      "min_width": null,
      "object_fit": null,
      "object_position": null,
      "order": null,
      "overflow": null,
      "overflow_x": null,
      "overflow_y": null,
      "padding": null,
      "right": null,
      "top": null,
      "visibility": null,
      "width": null
     }
    },
    "143a10a6765541fbbfab8f895589fd52": {
     "model_module": "@jupyter-widgets/base",
     "model_module_version": "1.2.0",
     "model_name": "LayoutModel",
     "state": {
      "_model_module": "@jupyter-widgets/base",
      "_model_module_version": "1.2.0",
      "_model_name": "LayoutModel",
      "_view_count": null,
      "_view_module": "@jupyter-widgets/base",
      "_view_module_version": "1.2.0",
      "_view_name": "LayoutView",
      "align_content": null,
      "align_items": null,
      "align_self": null,
      "border": null,
      "bottom": null,
      "display": null,
      "flex": null,
      "flex_flow": null,
      "grid_area": null,
      "grid_auto_columns": null,
      "grid_auto_flow": null,
      "grid_auto_rows": null,
      "grid_column": null,
      "grid_gap": null,
      "grid_row": null,
      "grid_template_areas": null,
      "grid_template_columns": null,
      "grid_template_rows": null,
      "height": null,
      "justify_content": null,
      "justify_items": null,
      "left": null,
      "margin": null,
      "max_height": null,
      "max_width": null,
      "min_height": null,
      "min_width": null,
      "object_fit": null,
      "object_position": null,
      "order": null,
      "overflow": null,
      "overflow_x": null,
      "overflow_y": null,
      "padding": null,
      "right": null,
      "top": null,
      "visibility": null,
      "width": null
     }
    },
    "1729d4ff744c491fbdbcb353e9d93af7": {
     "model_module": "@jupyter-widgets/base",
     "model_module_version": "1.2.0",
     "model_name": "LayoutModel",
     "state": {
      "_model_module": "@jupyter-widgets/base",
      "_model_module_version": "1.2.0",
      "_model_name": "LayoutModel",
      "_view_count": null,
      "_view_module": "@jupyter-widgets/base",
      "_view_module_version": "1.2.0",
      "_view_name": "LayoutView",
      "align_content": null,
      "align_items": null,
      "align_self": null,
      "border": null,
      "bottom": null,
      "display": null,
      "flex": null,
      "flex_flow": null,
      "grid_area": null,
      "grid_auto_columns": null,
      "grid_auto_flow": null,
      "grid_auto_rows": null,
      "grid_column": null,
      "grid_gap": null,
      "grid_row": null,
      "grid_template_areas": null,
      "grid_template_columns": null,
      "grid_template_rows": null,
      "height": null,
      "justify_content": null,
      "justify_items": null,
      "left": null,
      "margin": null,
      "max_height": null,
      "max_width": null,
      "min_height": null,
      "min_width": null,
      "object_fit": null,
      "object_position": null,
      "order": null,
      "overflow": null,
      "overflow_x": null,
      "overflow_y": null,
      "padding": null,
      "right": null,
      "top": null,
      "visibility": null,
      "width": null
     }
    },
    "18c162998e5143ddaec233d5fb9f5c99": {
     "model_module": "@jupyter-widgets/controls",
     "model_module_version": "1.5.0",
     "model_name": "HTMLModel",
     "state": {
      "_dom_classes": [],
      "_model_module": "@jupyter-widgets/controls",
      "_model_module_version": "1.5.0",
      "_model_name": "HTMLModel",
      "_view_count": null,
      "_view_module": "@jupyter-widgets/controls",
      "_view_module_version": "1.5.0",
      "_view_name": "HTMLView",
      "description": "",
      "description_tooltip": null,
      "layout": "IPY_MODEL_e0e11a1de8ca415faf4d2f6280726741",
      "placeholder": "​",
      "style": "IPY_MODEL_74f51367d5754a09980bf8e20707c462",
      "value": " 5000/5000 [00:01&lt;00:00, 2751.18 examples/s]"
     }
    },
    "19fab3167a4c4361bbee96d11f7fc426": {
     "model_module": "@jupyter-widgets/base",
     "model_module_version": "1.2.0",
     "model_name": "LayoutModel",
     "state": {
      "_model_module": "@jupyter-widgets/base",
      "_model_module_version": "1.2.0",
      "_model_name": "LayoutModel",
      "_view_count": null,
      "_view_module": "@jupyter-widgets/base",
      "_view_module_version": "1.2.0",
      "_view_name": "LayoutView",
      "align_content": null,
      "align_items": null,
      "align_self": null,
      "border": null,
      "bottom": null,
      "display": null,
      "flex": null,
      "flex_flow": null,
      "grid_area": null,
      "grid_auto_columns": null,
      "grid_auto_flow": null,
      "grid_auto_rows": null,
      "grid_column": null,
      "grid_gap": null,
      "grid_row": null,
      "grid_template_areas": null,
      "grid_template_columns": null,
      "grid_template_rows": null,
      "height": null,
      "justify_content": null,
      "justify_items": null,
      "left": null,
      "margin": null,
      "max_height": null,
      "max_width": null,
      "min_height": null,
      "min_width": null,
      "object_fit": null,
      "object_position": null,
      "order": null,
      "overflow": null,
      "overflow_x": null,
      "overflow_y": null,
      "padding": null,
      "right": null,
      "top": null,
      "visibility": null,
      "width": null
     }
    },
    "1cdfa7adf55841269c8ad4b511ab01b6": {
     "model_module": "@jupyter-widgets/controls",
     "model_module_version": "1.5.0",
     "model_name": "FloatProgressModel",
     "state": {
      "_dom_classes": [],
      "_model_module": "@jupyter-widgets/controls",
      "_model_module_version": "1.5.0",
      "_model_name": "FloatProgressModel",
      "_view_count": null,
      "_view_module": "@jupyter-widgets/controls",
      "_view_module_version": "1.5.0",
      "_view_name": "ProgressView",
      "bar_style": "success",
      "description": "",
      "description_tooltip": null,
      "layout": "IPY_MODEL_fb7c255ec2ac4809bb2ad4a2c1eeba40",
      "max": 659,
      "min": 0,
      "orientation": "horizontal",
      "style": "IPY_MODEL_59005eb0fd9a4ed08b3314186ffd1486",
      "value": 659
     }
    },
    "1e81cddc94534b3696270b57b80a24c9": {
     "model_module": "@jupyter-widgets/base",
     "model_module_version": "1.2.0",
     "model_name": "LayoutModel",
     "state": {
      "_model_module": "@jupyter-widgets/base",
      "_model_module_version": "1.2.0",
      "_model_name": "LayoutModel",
      "_view_count": null,
      "_view_module": "@jupyter-widgets/base",
      "_view_module_version": "1.2.0",
      "_view_name": "LayoutView",
      "align_content": null,
      "align_items": null,
      "align_self": null,
      "border": null,
      "bottom": null,
      "display": null,
      "flex": null,
      "flex_flow": null,
      "grid_area": null,
      "grid_auto_columns": null,
      "grid_auto_flow": null,
      "grid_auto_rows": null,
      "grid_column": null,
      "grid_gap": null,
      "grid_row": null,
      "grid_template_areas": null,
      "grid_template_columns": null,
      "grid_template_rows": null,
      "height": null,
      "justify_content": null,
      "justify_items": null,
      "left": null,
      "margin": null,
      "max_height": null,
      "max_width": null,
      "min_height": null,
      "min_width": null,
      "object_fit": null,
      "object_position": null,
      "order": null,
      "overflow": null,
      "overflow_x": null,
      "overflow_y": null,
      "padding": null,
      "right": null,
      "top": null,
      "visibility": null,
      "width": null
     }
    },
    "2100551f5dae4b8587c401814e9ebb18": {
     "model_module": "@jupyter-widgets/controls",
     "model_module_version": "1.5.0",
     "model_name": "HBoxModel",
     "state": {
      "_dom_classes": [],
      "_model_module": "@jupyter-widgets/controls",
      "_model_module_version": "1.5.0",
      "_model_name": "HBoxModel",
      "_view_count": null,
      "_view_module": "@jupyter-widgets/controls",
      "_view_module_version": "1.5.0",
      "_view_name": "HBoxView",
      "box_style": "",
      "children": [
       "IPY_MODEL_7167f527d12740aebf0b70846262d028",
       "IPY_MODEL_57cd9918f4904b7fa42ceb032fb48772",
       "IPY_MODEL_b6e69069a33a4521904344a300b319f5"
      ],
      "layout": "IPY_MODEL_19fab3167a4c4361bbee96d11f7fc426"
     }
    },
    "305bcabc249d4879a99464f31c96e0c9": {
     "model_module": "@jupyter-widgets/controls",
     "model_module_version": "1.5.0",
     "model_name": "HTMLModel",
     "state": {
      "_dom_classes": [],
      "_model_module": "@jupyter-widgets/controls",
      "_model_module_version": "1.5.0",
      "_model_name": "HTMLModel",
      "_view_count": null,
      "_view_module": "@jupyter-widgets/controls",
      "_view_module_version": "1.5.0",
      "_view_name": "HTMLView",
      "description": "",
      "description_tooltip": null,
      "layout": "IPY_MODEL_09c81487d2fb47c299763e94057698ee",
      "placeholder": "​",
      "style": "IPY_MODEL_41befa6f11f24665a87793715d26565b",
      "value": "Downloading (…)lve/main/config.json: 100%"
     }
    },
    "3078917aceaf4dc9af9ea9ec5fc3fc17": {
     "model_module": "@jupyter-widgets/base",
     "model_module_version": "1.2.0",
     "model_name": "LayoutModel",
     "state": {
      "_model_module": "@jupyter-widgets/base",
      "_model_module_version": "1.2.0",
      "_model_name": "LayoutModel",
      "_view_count": null,
      "_view_module": "@jupyter-widgets/base",
      "_view_module_version": "1.2.0",
      "_view_name": "LayoutView",
      "align_content": null,
      "align_items": null,
      "align_self": null,
      "border": null,
      "bottom": null,
      "display": null,
      "flex": null,
      "flex_flow": null,
      "grid_area": null,
      "grid_auto_columns": null,
      "grid_auto_flow": null,
      "grid_auto_rows": null,
      "grid_column": null,
      "grid_gap": null,
      "grid_row": null,
      "grid_template_areas": null,
      "grid_template_columns": null,
      "grid_template_rows": null,
      "height": null,
      "justify_content": null,
      "justify_items": null,
      "left": null,
      "margin": null,
      "max_height": null,
      "max_width": null,
      "min_height": null,
      "min_width": null,
      "object_fit": null,
      "object_position": null,
      "order": null,
      "overflow": null,
      "overflow_x": null,
      "overflow_y": null,
      "padding": null,
      "right": null,
      "top": null,
      "visibility": null,
      "width": null
     }
    },
    "3118b889ced746c6b0c3798b8e83a80f": {
     "model_module": "@jupyter-widgets/controls",
     "model_module_version": "1.5.0",
     "model_name": "HBoxModel",
     "state": {
      "_dom_classes": [],
      "_model_module": "@jupyter-widgets/controls",
      "_model_module_version": "1.5.0",
      "_model_name": "HBoxModel",
      "_view_count": null,
      "_view_module": "@jupyter-widgets/controls",
      "_view_module_version": "1.5.0",
      "_view_name": "HBoxView",
      "box_style": "",
      "children": [
       "IPY_MODEL_0d9f61c7c5bb42c28aff80277f871401",
       "IPY_MODEL_88e8e51942444a4e97d63bfe0cda22ee",
       "IPY_MODEL_18c162998e5143ddaec233d5fb9f5c99"
      ],
      "layout": "IPY_MODEL_1729d4ff744c491fbdbcb353e9d93af7"
     }
    },
    "319614f9637b44b280ea72e3f4774f03": {
     "model_module": "@jupyter-widgets/base",
     "model_module_version": "1.2.0",
     "model_name": "LayoutModel",
     "state": {
      "_model_module": "@jupyter-widgets/base",
      "_model_module_version": "1.2.0",
      "_model_name": "LayoutModel",
      "_view_count": null,
      "_view_module": "@jupyter-widgets/base",
      "_view_module_version": "1.2.0",
      "_view_name": "LayoutView",
      "align_content": null,
      "align_items": null,
      "align_self": null,
      "border": null,
      "bottom": null,
      "display": null,
      "flex": null,
      "flex_flow": null,
      "grid_area": null,
      "grid_auto_columns": null,
      "grid_auto_flow": null,
      "grid_auto_rows": null,
      "grid_column": null,
      "grid_gap": null,
      "grid_row": null,
      "grid_template_areas": null,
      "grid_template_columns": null,
      "grid_template_rows": null,
      "height": null,
      "justify_content": null,
      "justify_items": null,
      "left": null,
      "margin": null,
      "max_height": null,
      "max_width": null,
      "min_height": null,
      "min_width": null,
      "object_fit": null,
      "object_position": null,
      "order": null,
      "overflow": null,
      "overflow_x": null,
      "overflow_y": null,
      "padding": null,
      "right": null,
      "top": null,
      "visibility": null,
      "width": null
     }
    },
    "3b63b0c460494f1b99db9a41426c8f27": {
     "model_module": "@jupyter-widgets/base",
     "model_module_version": "1.2.0",
     "model_name": "LayoutModel",
     "state": {
      "_model_module": "@jupyter-widgets/base",
      "_model_module_version": "1.2.0",
      "_model_name": "LayoutModel",
      "_view_count": null,
      "_view_module": "@jupyter-widgets/base",
      "_view_module_version": "1.2.0",
      "_view_name": "LayoutView",
      "align_content": null,
      "align_items": null,
      "align_self": null,
      "border": null,
      "bottom": null,
      "display": null,
      "flex": null,
      "flex_flow": null,
      "grid_area": null,
      "grid_auto_columns": null,
      "grid_auto_flow": null,
      "grid_auto_rows": null,
      "grid_column": null,
      "grid_gap": null,
      "grid_row": null,
      "grid_template_areas": null,
      "grid_template_columns": null,
      "grid_template_rows": null,
      "height": null,
      "justify_content": null,
      "justify_items": null,
      "left": null,
      "margin": null,
      "max_height": null,
      "max_width": null,
      "min_height": null,
      "min_width": null,
      "object_fit": null,
      "object_position": null,
      "order": null,
      "overflow": null,
      "overflow_x": null,
      "overflow_y": null,
      "padding": null,
      "right": null,
      "top": null,
      "visibility": null,
      "width": null
     }
    },
    "41befa6f11f24665a87793715d26565b": {
     "model_module": "@jupyter-widgets/controls",
     "model_module_version": "1.5.0",
     "model_name": "DescriptionStyleModel",
     "state": {
      "_model_module": "@jupyter-widgets/controls",
      "_model_module_version": "1.5.0",
      "_model_name": "DescriptionStyleModel",
      "_view_count": null,
      "_view_module": "@jupyter-widgets/base",
      "_view_module_version": "1.2.0",
      "_view_name": "StyleView",
      "description_width": ""
     }
    },
    "4627bf4d188b4e1398ba25788651086c": {
     "model_module": "@jupyter-widgets/controls",
     "model_module_version": "1.5.0",
     "model_name": "DescriptionStyleModel",
     "state": {
      "_model_module": "@jupyter-widgets/controls",
      "_model_module_version": "1.5.0",
      "_model_name": "DescriptionStyleModel",
      "_view_count": null,
      "_view_module": "@jupyter-widgets/base",
      "_view_module_version": "1.2.0",
      "_view_name": "StyleView",
      "description_width": ""
     }
    },
    "4a0b7bf588f249efa1182eac36b4a061": {
     "model_module": "@jupyter-widgets/controls",
     "model_module_version": "1.5.0",
     "model_name": "DescriptionStyleModel",
     "state": {
      "_model_module": "@jupyter-widgets/controls",
      "_model_module_version": "1.5.0",
      "_model_name": "DescriptionStyleModel",
      "_view_count": null,
      "_view_module": "@jupyter-widgets/base",
      "_view_module_version": "1.2.0",
      "_view_name": "StyleView",
      "description_width": ""
     }
    },
    "527f76b8acf343e99f50151626ea9312": {
     "model_module": "@jupyter-widgets/base",
     "model_module_version": "1.2.0",
     "model_name": "LayoutModel",
     "state": {
      "_model_module": "@jupyter-widgets/base",
      "_model_module_version": "1.2.0",
      "_model_name": "LayoutModel",
      "_view_count": null,
      "_view_module": "@jupyter-widgets/base",
      "_view_module_version": "1.2.0",
      "_view_name": "LayoutView",
      "align_content": null,
      "align_items": null,
      "align_self": null,
      "border": null,
      "bottom": null,
      "display": null,
      "flex": null,
      "flex_flow": null,
      "grid_area": null,
      "grid_auto_columns": null,
      "grid_auto_flow": null,
      "grid_auto_rows": null,
      "grid_column": null,
      "grid_gap": null,
      "grid_row": null,
      "grid_template_areas": null,
      "grid_template_columns": null,
      "grid_template_rows": null,
      "height": null,
      "justify_content": null,
      "justify_items": null,
      "left": null,
      "margin": null,
      "max_height": null,
      "max_width": null,
      "min_height": null,
      "min_width": null,
      "object_fit": null,
      "object_position": null,
      "order": null,
      "overflow": null,
      "overflow_x": null,
      "overflow_y": null,
      "padding": null,
      "right": null,
      "top": null,
      "visibility": null,
      "width": null
     }
    },
    "57cd9918f4904b7fa42ceb032fb48772": {
     "model_module": "@jupyter-widgets/controls",
     "model_module_version": "1.5.0",
     "model_name": "FloatProgressModel",
     "state": {
      "_dom_classes": [],
      "_model_module": "@jupyter-widgets/controls",
      "_model_module_version": "1.5.0",
      "_model_name": "FloatProgressModel",
      "_view_count": null,
      "_view_module": "@jupyter-widgets/controls",
      "_view_module_version": "1.5.0",
      "_view_name": "ProgressView",
      "bar_style": "success",
      "description": "",
      "description_tooltip": null,
      "layout": "IPY_MODEL_836e2eb5350a451ebe84a0a72dbf6993",
      "max": 34976,
      "min": 0,
      "orientation": "horizontal",
      "style": "IPY_MODEL_6b67d21fa9f64b3dbfd627d913f7cf51",
      "value": 34976
     }
    },
    "59005eb0fd9a4ed08b3314186ffd1486": {
     "model_module": "@jupyter-widgets/controls",
     "model_module_version": "1.5.0",
     "model_name": "ProgressStyleModel",
     "state": {
      "_model_module": "@jupyter-widgets/controls",
      "_model_module_version": "1.5.0",
      "_model_name": "ProgressStyleModel",
      "_view_count": null,
      "_view_module": "@jupyter-widgets/base",
      "_view_module_version": "1.2.0",
      "_view_name": "StyleView",
      "bar_color": null,
      "description_width": ""
     }
    },
    "5f75f9e9bc744688a9adc6ad4aad71fd": {
     "model_module": "@jupyter-widgets/controls",
     "model_module_version": "1.5.0",
     "model_name": "HTMLModel",
     "state": {
      "_dom_classes": [],
      "_model_module": "@jupyter-widgets/controls",
      "_model_module_version": "1.5.0",
      "_model_name": "HTMLModel",
      "_view_count": null,
      "_view_module": "@jupyter-widgets/controls",
      "_view_module_version": "1.5.0",
      "_view_name": "HTMLView",
      "description": "",
      "description_tooltip": null,
      "layout": "IPY_MODEL_e55aff977d7847b29439e5be6c3ccc8d",
      "placeholder": "​",
      "style": "IPY_MODEL_7c1efd232d034bb69662ed1a26624852",
      "value": " 990M/990M [00:07&lt;00:00, 57.5MB/s]"
     }
    },
    "61962eb97c5d4fa89bcec0dcf514eab0": {
     "model_module": "@jupyter-widgets/controls",
     "model_module_version": "1.5.0",
     "model_name": "HTMLModel",
     "state": {
      "_dom_classes": [],
      "_model_module": "@jupyter-widgets/controls",
      "_model_module_version": "1.5.0",
      "_model_name": "HTMLModel",
      "_view_count": null,
      "_view_module": "@jupyter-widgets/controls",
      "_view_module_version": "1.5.0",
      "_view_name": "HTMLView",
      "description": "",
      "description_tooltip": null,
      "layout": "IPY_MODEL_1298deb1c4bc45608e27e9167676cf39",
      "placeholder": "​",
      "style": "IPY_MODEL_e64790144c484149b0a7b3d70f9d5a29",
      "value": " 725k/725k [00:00&lt;00:00, 8.67MB/s]"
     }
    },
    "62cdeb88dc704841b67ec802a4d1b9d2": {
     "model_module": "@jupyter-widgets/controls",
     "model_module_version": "1.5.0",
     "model_name": "ProgressStyleModel",
     "state": {
      "_model_module": "@jupyter-widgets/controls",
      "_model_module_version": "1.5.0",
      "_model_name": "ProgressStyleModel",
      "_view_count": null,
      "_view_module": "@jupyter-widgets/base",
      "_view_module_version": "1.2.0",
      "_view_name": "StyleView",
      "bar_color": null,
      "description_width": ""
     }
    },
    "649c63c70b52470da321b97e88522ad7": {
     "model_module": "@jupyter-widgets/base",
     "model_module_version": "1.2.0",
     "model_name": "LayoutModel",
     "state": {
      "_model_module": "@jupyter-widgets/base",
      "_model_module_version": "1.2.0",
      "_model_name": "LayoutModel",
      "_view_count": null,
      "_view_module": "@jupyter-widgets/base",
      "_view_module_version": "1.2.0",
      "_view_name": "LayoutView",
      "align_content": null,
      "align_items": null,
      "align_self": null,
      "border": null,
      "bottom": null,
      "display": null,
      "flex": null,
      "flex_flow": null,
      "grid_area": null,
      "grid_auto_columns": null,
      "grid_auto_flow": null,
      "grid_auto_rows": null,
      "grid_column": null,
      "grid_gap": null,
      "grid_row": null,
      "grid_template_areas": null,
      "grid_template_columns": null,
      "grid_template_rows": null,
      "height": null,
      "justify_content": null,
      "justify_items": null,
      "left": null,
      "margin": null,
      "max_height": null,
      "max_width": null,
      "min_height": null,
      "min_width": null,
      "object_fit": null,
      "object_position": null,
      "order": null,
      "overflow": null,
      "overflow_x": null,
      "overflow_y": null,
      "padding": null,
      "right": null,
      "top": null,
      "visibility": null,
      "width": null
     }
    },
    "6b67d21fa9f64b3dbfd627d913f7cf51": {
     "model_module": "@jupyter-widgets/controls",
     "model_module_version": "1.5.0",
     "model_name": "ProgressStyleModel",
     "state": {
      "_model_module": "@jupyter-widgets/controls",
      "_model_module_version": "1.5.0",
      "_model_name": "ProgressStyleModel",
      "_view_count": null,
      "_view_module": "@jupyter-widgets/base",
      "_view_module_version": "1.2.0",
      "_view_name": "StyleView",
      "bar_color": null,
      "description_width": ""
     }
    },
    "6c4a2077b9134c2d8b8fef87aa9db8b5": {
     "model_module": "@jupyter-widgets/base",
     "model_module_version": "1.2.0",
     "model_name": "LayoutModel",
     "state": {
      "_model_module": "@jupyter-widgets/base",
      "_model_module_version": "1.2.0",
      "_model_name": "LayoutModel",
      "_view_count": null,
      "_view_module": "@jupyter-widgets/base",
      "_view_module_version": "1.2.0",
      "_view_name": "LayoutView",
      "align_content": null,
      "align_items": null,
      "align_self": null,
      "border": null,
      "bottom": null,
      "display": null,
      "flex": null,
      "flex_flow": null,
      "grid_area": null,
      "grid_auto_columns": null,
      "grid_auto_flow": null,
      "grid_auto_rows": null,
      "grid_column": null,
      "grid_gap": null,
      "grid_row": null,
      "grid_template_areas": null,
      "grid_template_columns": null,
      "grid_template_rows": null,
      "height": null,
      "justify_content": null,
      "justify_items": null,
      "left": null,
      "margin": null,
      "max_height": null,
      "max_width": null,
      "min_height": null,
      "min_width": null,
      "object_fit": null,
      "object_position": null,
      "order": null,
      "overflow": null,
      "overflow_x": null,
      "overflow_y": null,
      "padding": null,
      "right": null,
      "top": null,
      "visibility": null,
      "width": null
     }
    },
    "6e0f0cce15874d0ba9786040ba71017a": {
     "model_module": "@jupyter-widgets/controls",
     "model_module_version": "1.5.0",
     "model_name": "DescriptionStyleModel",
     "state": {
      "_model_module": "@jupyter-widgets/controls",
      "_model_module_version": "1.5.0",
      "_model_name": "DescriptionStyleModel",
      "_view_count": null,
      "_view_module": "@jupyter-widgets/base",
      "_view_module_version": "1.2.0",
      "_view_name": "StyleView",
      "description_width": ""
     }
    },
    "7167f527d12740aebf0b70846262d028": {
     "model_module": "@jupyter-widgets/controls",
     "model_module_version": "1.5.0",
     "model_name": "HTMLModel",
     "state": {
      "_dom_classes": [],
      "_model_module": "@jupyter-widgets/controls",
      "_model_module_version": "1.5.0",
      "_model_name": "HTMLModel",
      "_view_count": null,
      "_view_module": "@jupyter-widgets/controls",
      "_view_module_version": "1.5.0",
      "_view_name": "HTMLView",
      "description": "",
      "description_tooltip": null,
      "layout": "IPY_MODEL_143a10a6765541fbbfab8f895589fd52",
      "placeholder": "​",
      "style": "IPY_MODEL_cc65ecd1969c4055979ea86ec7b9469b",
      "value": "Map: 100%"
     }
    },
    "73d46deb9bed45feae85e4936d07958d": {
     "model_module": "@jupyter-widgets/controls",
     "model_module_version": "1.5.0",
     "model_name": "FloatProgressModel",
     "state": {
      "_dom_classes": [],
      "_model_module": "@jupyter-widgets/controls",
      "_model_module_version": "1.5.0",
      "_model_name": "FloatProgressModel",
      "_view_count": null,
      "_view_module": "@jupyter-widgets/controls",
      "_view_module_version": "1.5.0",
      "_view_name": "ProgressView",
      "bar_style": "success",
      "description": "",
      "description_tooltip": null,
      "layout": "IPY_MODEL_95c2c55a0c2d43a796f20bb205f1dda9",
      "max": 725135,
      "min": 0,
      "orientation": "horizontal",
      "style": "IPY_MODEL_a4342f04200d4a04abe40aa3530a3bf3",
      "value": 725135
     }
    },
    "74f51367d5754a09980bf8e20707c462": {
     "model_module": "@jupyter-widgets/controls",
     "model_module_version": "1.5.0",
     "model_name": "DescriptionStyleModel",
     "state": {
      "_model_module": "@jupyter-widgets/controls",
      "_model_module_version": "1.5.0",
      "_model_name": "DescriptionStyleModel",
      "_view_count": null,
      "_view_module": "@jupyter-widgets/base",
      "_view_module_version": "1.2.0",
      "_view_name": "StyleView",
      "description_width": ""
     }
    },
    "7c1efd232d034bb69662ed1a26624852": {
     "model_module": "@jupyter-widgets/controls",
     "model_module_version": "1.5.0",
     "model_name": "DescriptionStyleModel",
     "state": {
      "_model_module": "@jupyter-widgets/controls",
      "_model_module_version": "1.5.0",
      "_model_name": "DescriptionStyleModel",
      "_view_count": null,
      "_view_module": "@jupyter-widgets/base",
      "_view_module_version": "1.2.0",
      "_view_name": "StyleView",
      "description_width": ""
     }
    },
    "836e2eb5350a451ebe84a0a72dbf6993": {
     "model_module": "@jupyter-widgets/base",
     "model_module_version": "1.2.0",
     "model_name": "LayoutModel",
     "state": {
      "_model_module": "@jupyter-widgets/base",
      "_model_module_version": "1.2.0",
      "_model_name": "LayoutModel",
      "_view_count": null,
      "_view_module": "@jupyter-widgets/base",
      "_view_module_version": "1.2.0",
      "_view_name": "LayoutView",
      "align_content": null,
      "align_items": null,
      "align_self": null,
      "border": null,
      "bottom": null,
      "display": null,
      "flex": null,
      "flex_flow": null,
      "grid_area": null,
      "grid_auto_columns": null,
      "grid_auto_flow": null,
      "grid_auto_rows": null,
      "grid_column": null,
      "grid_gap": null,
      "grid_row": null,
      "grid_template_areas": null,
      "grid_template_columns": null,
      "grid_template_rows": null,
      "height": null,
      "justify_content": null,
      "justify_items": null,
      "left": null,
      "margin": null,
      "max_height": null,
      "max_width": null,
      "min_height": null,
      "min_width": null,
      "object_fit": null,
      "object_position": null,
      "order": null,
      "overflow": null,
      "overflow_x": null,
      "overflow_y": null,
      "padding": null,
      "right": null,
      "top": null,
      "visibility": null,
      "width": null
     }
    },
    "88e8e51942444a4e97d63bfe0cda22ee": {
     "model_module": "@jupyter-widgets/controls",
     "model_module_version": "1.5.0",
     "model_name": "FloatProgressModel",
     "state": {
      "_dom_classes": [],
      "_model_module": "@jupyter-widgets/controls",
      "_model_module_version": "1.5.0",
      "_model_name": "FloatProgressModel",
      "_view_count": null,
      "_view_module": "@jupyter-widgets/controls",
      "_view_module_version": "1.5.0",
      "_view_name": "ProgressView",
      "bar_style": "success",
      "description": "",
      "description_tooltip": null,
      "layout": "IPY_MODEL_6c4a2077b9134c2d8b8fef87aa9db8b5",
      "max": 5000,
      "min": 0,
      "orientation": "horizontal",
      "style": "IPY_MODEL_62cdeb88dc704841b67ec802a4d1b9d2",
      "value": 5000
     }
    },
    "8a4dcea69ffc48c6b25d4b5149a3bf7d": {
     "model_module": "@jupyter-widgets/base",
     "model_module_version": "1.2.0",
     "model_name": "LayoutModel",
     "state": {
      "_model_module": "@jupyter-widgets/base",
      "_model_module_version": "1.2.0",
      "_model_name": "LayoutModel",
      "_view_count": null,
      "_view_module": "@jupyter-widgets/base",
      "_view_module_version": "1.2.0",
      "_view_name": "LayoutView",
      "align_content": null,
      "align_items": null,
      "align_self": null,
      "border": null,
      "bottom": null,
      "display": null,
      "flex": null,
      "flex_flow": null,
      "grid_area": null,
      "grid_auto_columns": null,
      "grid_auto_flow": null,
      "grid_auto_rows": null,
      "grid_column": null,
      "grid_gap": null,
      "grid_row": null,
      "grid_template_areas": null,
      "grid_template_columns": null,
      "grid_template_rows": null,
      "height": null,
      "justify_content": null,
      "justify_items": null,
      "left": null,
      "margin": null,
      "max_height": null,
      "max_width": null,
      "min_height": null,
      "min_width": null,
      "object_fit": null,
      "object_position": null,
      "order": null,
      "overflow": null,
      "overflow_x": null,
      "overflow_y": null,
      "padding": null,
      "right": null,
      "top": null,
      "visibility": null,
      "width": null
     }
    },
    "8d07ed1f3ea8496fa25db908932be776": {
     "model_module": "@jupyter-widgets/base",
     "model_module_version": "1.2.0",
     "model_name": "LayoutModel",
     "state": {
      "_model_module": "@jupyter-widgets/base",
      "_model_module_version": "1.2.0",
      "_model_name": "LayoutModel",
      "_view_count": null,
      "_view_module": "@jupyter-widgets/base",
      "_view_module_version": "1.2.0",
      "_view_name": "LayoutView",
      "align_content": null,
      "align_items": null,
      "align_self": null,
      "border": null,
      "bottom": null,
      "display": null,
      "flex": null,
      "flex_flow": null,
      "grid_area": null,
      "grid_auto_columns": null,
      "grid_auto_flow": null,
      "grid_auto_rows": null,
      "grid_column": null,
      "grid_gap": null,
      "grid_row": null,
      "grid_template_areas": null,
      "grid_template_columns": null,
      "grid_template_rows": null,
      "height": null,
      "justify_content": null,
      "justify_items": null,
      "left": null,
      "margin": null,
      "max_height": null,
      "max_width": null,
      "min_height": null,
      "min_width": null,
      "object_fit": null,
      "object_position": null,
      "order": null,
      "overflow": null,
      "overflow_x": null,
      "overflow_y": null,
      "padding": null,
      "right": null,
      "top": null,
      "visibility": null,
      "width": null
     }
    },
    "935f46b25f07481fa8e2ffa924683cd1": {
     "model_module": "@jupyter-widgets/controls",
     "model_module_version": "1.5.0",
     "model_name": "HBoxModel",
     "state": {
      "_dom_classes": [],
      "_model_module": "@jupyter-widgets/controls",
      "_model_module_version": "1.5.0",
      "_model_name": "HBoxModel",
      "_view_count": null,
      "_view_module": "@jupyter-widgets/controls",
      "_view_module_version": "1.5.0",
      "_view_name": "HBoxView",
      "box_style": "",
      "children": [
       "IPY_MODEL_a9aa9aff83624a3aab57b1e2e352611c",
       "IPY_MODEL_962a182573fa4f91afa6d1cd8977aeb9",
       "IPY_MODEL_5f75f9e9bc744688a9adc6ad4aad71fd"
      ],
      "layout": "IPY_MODEL_1e81cddc94534b3696270b57b80a24c9"
     }
    },
    "93be1d1379914fb9a24cc6cd47394ea4": {
     "model_module": "@jupyter-widgets/controls",
     "model_module_version": "1.5.0",
     "model_name": "DescriptionStyleModel",
     "state": {
      "_model_module": "@jupyter-widgets/controls",
      "_model_module_version": "1.5.0",
      "_model_name": "DescriptionStyleModel",
      "_view_count": null,
      "_view_module": "@jupyter-widgets/base",
      "_view_module_version": "1.2.0",
      "_view_name": "StyleView",
      "description_width": ""
     }
    },
    "9596bb9e44f64ea79270a656071b9861": {
     "model_module": "@jupyter-widgets/base",
     "model_module_version": "1.2.0",
     "model_name": "LayoutModel",
     "state": {
      "_model_module": "@jupyter-widgets/base",
      "_model_module_version": "1.2.0",
      "_model_name": "LayoutModel",
      "_view_count": null,
      "_view_module": "@jupyter-widgets/base",
      "_view_module_version": "1.2.0",
      "_view_name": "LayoutView",
      "align_content": null,
      "align_items": null,
      "align_self": null,
      "border": null,
      "bottom": null,
      "display": null,
      "flex": null,
      "flex_flow": null,
      "grid_area": null,
      "grid_auto_columns": null,
      "grid_auto_flow": null,
      "grid_auto_rows": null,
      "grid_column": null,
      "grid_gap": null,
      "grid_row": null,
      "grid_template_areas": null,
      "grid_template_columns": null,
      "grid_template_rows": null,
      "height": null,
      "justify_content": null,
      "justify_items": null,
      "left": null,
      "margin": null,
      "max_height": null,
      "max_width": null,
      "min_height": null,
      "min_width": null,
      "object_fit": null,
      "object_position": null,
      "order": null,
      "overflow": null,
      "overflow_x": null,
      "overflow_y": null,
      "padding": null,
      "right": null,
      "top": null,
      "visibility": null,
      "width": null
     }
    },
    "95c2c55a0c2d43a796f20bb205f1dda9": {
     "model_module": "@jupyter-widgets/base",
     "model_module_version": "1.2.0",
     "model_name": "LayoutModel",
     "state": {
      "_model_module": "@jupyter-widgets/base",
      "_model_module_version": "1.2.0",
      "_model_name": "LayoutModel",
      "_view_count": null,
      "_view_module": "@jupyter-widgets/base",
      "_view_module_version": "1.2.0",
      "_view_name": "LayoutView",
      "align_content": null,
      "align_items": null,
      "align_self": null,
      "border": null,
      "bottom": null,
      "display": null,
      "flex": null,
      "flex_flow": null,
      "grid_area": null,
      "grid_auto_columns": null,
      "grid_auto_flow": null,
      "grid_auto_rows": null,
      "grid_column": null,
      "grid_gap": null,
      "grid_row": null,
      "grid_template_areas": null,
      "grid_template_columns": null,
      "grid_template_rows": null,
      "height": null,
      "justify_content": null,
      "justify_items": null,
      "left": null,
      "margin": null,
      "max_height": null,
      "max_width": null,
      "min_height": null,
      "min_width": null,
      "object_fit": null,
      "object_position": null,
      "order": null,
      "overflow": null,
      "overflow_x": null,
      "overflow_y": null,
      "padding": null,
      "right": null,
      "top": null,
      "visibility": null,
      "width": null
     }
    },
    "962a182573fa4f91afa6d1cd8977aeb9": {
     "model_module": "@jupyter-widgets/controls",
     "model_module_version": "1.5.0",
     "model_name": "FloatProgressModel",
     "state": {
      "_dom_classes": [],
      "_model_module": "@jupyter-widgets/controls",
      "_model_module_version": "1.5.0",
      "_model_name": "FloatProgressModel",
      "_view_count": null,
      "_view_module": "@jupyter-widgets/controls",
      "_view_module_version": "1.5.0",
      "_view_name": "ProgressView",
      "bar_style": "success",
      "description": "",
      "description_tooltip": null,
      "layout": "IPY_MODEL_3b63b0c460494f1b99db9a41426c8f27",
      "max": 990345066,
      "min": 0,
      "orientation": "horizontal",
      "style": "IPY_MODEL_a96be4d798034d73a6c866156456818c",
      "value": 990345066
     }
    },
    "a4342f04200d4a04abe40aa3530a3bf3": {
     "model_module": "@jupyter-widgets/controls",
     "model_module_version": "1.5.0",
     "model_name": "ProgressStyleModel",
     "state": {
      "_model_module": "@jupyter-widgets/controls",
      "_model_module_version": "1.5.0",
      "_model_name": "ProgressStyleModel",
      "_view_count": null,
      "_view_module": "@jupyter-widgets/base",
      "_view_module_version": "1.2.0",
      "_view_name": "StyleView",
      "bar_color": null,
      "description_width": ""
     }
    },
    "a49bfd73df384e7ca322604911e865f1": {
     "model_module": "@jupyter-widgets/controls",
     "model_module_version": "1.5.0",
     "model_name": "HBoxModel",
     "state": {
      "_dom_classes": [],
      "_model_module": "@jupyter-widgets/controls",
      "_model_module_version": "1.5.0",
      "_model_name": "HBoxModel",
      "_view_count": null,
      "_view_module": "@jupyter-widgets/controls",
      "_view_module_version": "1.5.0",
      "_view_name": "HBoxView",
      "box_style": "",
      "children": [
       "IPY_MODEL_e27db1f2cd2748c39a68ca8db3056ba2",
       "IPY_MODEL_73d46deb9bed45feae85e4936d07958d",
       "IPY_MODEL_61962eb97c5d4fa89bcec0dcf514eab0"
      ],
      "layout": "IPY_MODEL_527f76b8acf343e99f50151626ea9312"
     }
    },
    "a96be4d798034d73a6c866156456818c": {
     "model_module": "@jupyter-widgets/controls",
     "model_module_version": "1.5.0",
     "model_name": "ProgressStyleModel",
     "state": {
      "_model_module": "@jupyter-widgets/controls",
      "_model_module_version": "1.5.0",
      "_model_name": "ProgressStyleModel",
      "_view_count": null,
      "_view_module": "@jupyter-widgets/base",
      "_view_module_version": "1.2.0",
      "_view_name": "StyleView",
      "bar_color": null,
      "description_width": ""
     }
    },
    "a9aa9aff83624a3aab57b1e2e352611c": {
     "model_module": "@jupyter-widgets/controls",
     "model_module_version": "1.5.0",
     "model_name": "HTMLModel",
     "state": {
      "_dom_classes": [],
      "_model_module": "@jupyter-widgets/controls",
      "_model_module_version": "1.5.0",
      "_model_name": "HTMLModel",
      "_view_count": null,
      "_view_module": "@jupyter-widgets/controls",
      "_view_module_version": "1.5.0",
      "_view_name": "HTMLView",
      "description": "",
      "description_tooltip": null,
      "layout": "IPY_MODEL_319614f9637b44b280ea72e3f4774f03",
      "placeholder": "​",
      "style": "IPY_MODEL_6e0f0cce15874d0ba9786040ba71017a",
      "value": "Downloading model.safetensors: 100%"
     }
    },
    "b6e69069a33a4521904344a300b319f5": {
     "model_module": "@jupyter-widgets/controls",
     "model_module_version": "1.5.0",
     "model_name": "HTMLModel",
     "state": {
      "_dom_classes": [],
      "_model_module": "@jupyter-widgets/controls",
      "_model_module_version": "1.5.0",
      "_model_name": "HTMLModel",
      "_view_count": null,
      "_view_module": "@jupyter-widgets/controls",
      "_view_module_version": "1.5.0",
      "_view_name": "HTMLView",
      "description": "",
      "description_tooltip": null,
      "layout": "IPY_MODEL_8a4dcea69ffc48c6b25d4b5149a3bf7d",
      "placeholder": "​",
      "style": "IPY_MODEL_93be1d1379914fb9a24cc6cd47394ea4",
      "value": " 34976/34976 [00:30&lt;00:00, 1810.16 examples/s]"
     }
    },
    "cc65ecd1969c4055979ea86ec7b9469b": {
     "model_module": "@jupyter-widgets/controls",
     "model_module_version": "1.5.0",
     "model_name": "DescriptionStyleModel",
     "state": {
      "_model_module": "@jupyter-widgets/controls",
      "_model_module_version": "1.5.0",
      "_model_name": "DescriptionStyleModel",
      "_view_count": null,
      "_view_module": "@jupyter-widgets/base",
      "_view_module_version": "1.2.0",
      "_view_name": "StyleView",
      "description_width": ""
     }
    },
    "e047dd13cff34c41959aa71bf314443d": {
     "model_module": "@jupyter-widgets/controls",
     "model_module_version": "1.5.0",
     "model_name": "HBoxModel",
     "state": {
      "_dom_classes": [],
      "_model_module": "@jupyter-widgets/controls",
      "_model_module_version": "1.5.0",
      "_model_name": "HBoxModel",
      "_view_count": null,
      "_view_module": "@jupyter-widgets/controls",
      "_view_module_version": "1.5.0",
      "_view_name": "HBoxView",
      "box_style": "",
      "children": [
       "IPY_MODEL_305bcabc249d4879a99464f31c96e0c9",
       "IPY_MODEL_1cdfa7adf55841269c8ad4b511ab01b6",
       "IPY_MODEL_0dd7d7ee26bf4e3aa204502e1439b17c"
      ],
      "layout": "IPY_MODEL_9596bb9e44f64ea79270a656071b9861"
     }
    },
    "e0e11a1de8ca415faf4d2f6280726741": {
     "model_module": "@jupyter-widgets/base",
     "model_module_version": "1.2.0",
     "model_name": "LayoutModel",
     "state": {
      "_model_module": "@jupyter-widgets/base",
      "_model_module_version": "1.2.0",
      "_model_name": "LayoutModel",
      "_view_count": null,
      "_view_module": "@jupyter-widgets/base",
      "_view_module_version": "1.2.0",
      "_view_name": "LayoutView",
      "align_content": null,
      "align_items": null,
      "align_self": null,
      "border": null,
      "bottom": null,
      "display": null,
      "flex": null,
      "flex_flow": null,
      "grid_area": null,
      "grid_auto_columns": null,
      "grid_auto_flow": null,
      "grid_auto_rows": null,
      "grid_column": null,
      "grid_gap": null,
      "grid_row": null,
      "grid_template_areas": null,
      "grid_template_columns": null,
      "grid_template_rows": null,
      "height": null,
      "justify_content": null,
      "justify_items": null,
      "left": null,
      "margin": null,
      "max_height": null,
      "max_width": null,
      "min_height": null,
      "min_width": null,
      "object_fit": null,
      "object_position": null,
      "order": null,
      "overflow": null,
      "overflow_x": null,
      "overflow_y": null,
      "padding": null,
      "right": null,
      "top": null,
      "visibility": null,
      "width": null
     }
    },
    "e27db1f2cd2748c39a68ca8db3056ba2": {
     "model_module": "@jupyter-widgets/controls",
     "model_module_version": "1.5.0",
     "model_name": "HTMLModel",
     "state": {
      "_dom_classes": [],
      "_model_module": "@jupyter-widgets/controls",
      "_model_module_version": "1.5.0",
      "_model_name": "HTMLModel",
      "_view_count": null,
      "_view_module": "@jupyter-widgets/controls",
      "_view_module_version": "1.5.0",
      "_view_name": "HTMLView",
      "description": "",
      "description_tooltip": null,
      "layout": "IPY_MODEL_3078917aceaf4dc9af9ea9ec5fc3fc17",
      "placeholder": "​",
      "style": "IPY_MODEL_ed7dff8cdf20496f9c3bbc015b76bb2e",
      "value": "Downloading spiece.model: 100%"
     }
    },
    "e55aff977d7847b29439e5be6c3ccc8d": {
     "model_module": "@jupyter-widgets/base",
     "model_module_version": "1.2.0",
     "model_name": "LayoutModel",
     "state": {
      "_model_module": "@jupyter-widgets/base",
      "_model_module_version": "1.2.0",
      "_model_name": "LayoutModel",
      "_view_count": null,
      "_view_module": "@jupyter-widgets/base",
      "_view_module_version": "1.2.0",
      "_view_name": "LayoutView",
      "align_content": null,
      "align_items": null,
      "align_self": null,
      "border": null,
      "bottom": null,
      "display": null,
      "flex": null,
      "flex_flow": null,
      "grid_area": null,
      "grid_auto_columns": null,
      "grid_auto_flow": null,
      "grid_auto_rows": null,
      "grid_column": null,
      "grid_gap": null,
      "grid_row": null,
      "grid_template_areas": null,
      "grid_template_columns": null,
      "grid_template_rows": null,
      "height": null,
      "justify_content": null,
      "justify_items": null,
      "left": null,
      "margin": null,
      "max_height": null,
      "max_width": null,
      "min_height": null,
      "min_width": null,
      "object_fit": null,
      "object_position": null,
      "order": null,
      "overflow": null,
      "overflow_x": null,
      "overflow_y": null,
      "padding": null,
      "right": null,
      "top": null,
      "visibility": null,
      "width": null
     }
    },
    "e64790144c484149b0a7b3d70f9d5a29": {
     "model_module": "@jupyter-widgets/controls",
     "model_module_version": "1.5.0",
     "model_name": "DescriptionStyleModel",
     "state": {
      "_model_module": "@jupyter-widgets/controls",
      "_model_module_version": "1.5.0",
      "_model_name": "DescriptionStyleModel",
      "_view_count": null,
      "_view_module": "@jupyter-widgets/base",
      "_view_module_version": "1.2.0",
      "_view_name": "StyleView",
      "description_width": ""
     }
    },
    "ed7dff8cdf20496f9c3bbc015b76bb2e": {
     "model_module": "@jupyter-widgets/controls",
     "model_module_version": "1.5.0",
     "model_name": "DescriptionStyleModel",
     "state": {
      "_model_module": "@jupyter-widgets/controls",
      "_model_module_version": "1.5.0",
      "_model_name": "DescriptionStyleModel",
      "_view_count": null,
      "_view_module": "@jupyter-widgets/base",
      "_view_module_version": "1.2.0",
      "_view_name": "StyleView",
      "description_width": ""
     }
    },
    "fb7c255ec2ac4809bb2ad4a2c1eeba40": {
     "model_module": "@jupyter-widgets/base",
     "model_module_version": "1.2.0",
     "model_name": "LayoutModel",
     "state": {
      "_model_module": "@jupyter-widgets/base",
      "_model_module_version": "1.2.0",
      "_model_name": "LayoutModel",
      "_view_count": null,
      "_view_module": "@jupyter-widgets/base",
      "_view_module_version": "1.2.0",
      "_view_name": "LayoutView",
      "align_content": null,
      "align_items": null,
      "align_self": null,
      "border": null,
      "bottom": null,
      "display": null,
      "flex": null,
      "flex_flow": null,
      "grid_area": null,
      "grid_auto_columns": null,
      "grid_auto_flow": null,
      "grid_auto_rows": null,
      "grid_column": null,
      "grid_gap": null,
      "grid_row": null,
      "grid_template_areas": null,
      "grid_template_columns": null,
      "grid_template_rows": null,
      "height": null,
      "justify_content": null,
      "justify_items": null,
      "left": null,
      "margin": null,
      "max_height": null,
      "max_width": null,
      "min_height": null,
      "min_width": null,
      "object_fit": null,
      "object_position": null,
      "order": null,
      "overflow": null,
      "overflow_x": null,
      "overflow_y": null,
      "padding": null,
      "right": null,
      "top": null,
      "visibility": null,
      "width": null
     }
    }
   }
  }
 },
 "nbformat": 4,
 "nbformat_minor": 5
}
